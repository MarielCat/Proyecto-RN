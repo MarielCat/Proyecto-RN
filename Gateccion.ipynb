{
 "cells": [
  {
   "cell_type": "markdown",
   "metadata": {},
   "source": [
    "\n",
    "# Detección del Estado de Ánimo en Gatos mediante Imágenes (Gatección)\n",
    "\n",
    "El problema a resolver en este proyecto es la detección automática del estado de ánimo en gatos a partir de imágenes. Los gatos suelen tener señales emocionales sutiles, expresadas a través de pequeñas variaciones en su rostro y postura corporal. \n",
    "\n",
    "Para entrenar el modelo se utilizarán dos conjuntos de datos: el Cat Faces Dataset, disponible en https://www.kaggle.com/datasets/crawford/cat-dataset, el Animal Faces HQ AFHQ, accesible https://www.kaggle.com/datasets/andrewmvd/animal-faces y el The Oxford-IIIT Pet Dataset, disponible en https://www.robots.ox.ac.uk/~vgg/data/pets/ . Las fuentes contienen miles de imágenes de gatos con variabilidad en ángulos, expresiones y poses. Aunque no incluyen etiquetas emocionales explícitas, se aplicará un proceso de etiquetado manual, basado en criterios etológicos como posición de orejas, ojos, bigotes y tensión corporal.\n",
    "\n",
    "La solución propuesta consiste en entrenar una red neuronal convolucional (CNN), compuesta por capas convolucionales, de agrupamiento pooling y densas, finalizando en una capa softmax que clasifique los estados emocionales (relajado, alerta, estresado, molesto). "
   ]
  }
 ],
 "metadata": {
  "language_info": {
   "name": "python"
  }
 },
 "nbformat": 4,
 "nbformat_minor": 2
}
